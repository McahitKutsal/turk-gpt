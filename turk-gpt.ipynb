{
  "nbformat": 4,
  "nbformat_minor": 0,
  "metadata": {
    "colab": {
      "provenance": [],
      "machine_shape": "hm",
      "gpuType": "T4"
    },
    "kernelspec": {
      "name": "python3",
      "display_name": "Python 3"
    },
    "language_info": {
      "name": "python"
    },
    "accelerator": "GPU"
  },
  "cells": [
    {
      "cell_type": "code",
      "execution_count": 1,
      "metadata": {
        "colab": {
          "base_uri": "https://localhost:8080/"
        },
        "id": "h5hjCcLDr2WC",
        "outputId": "1a085ce3-d876-455a-d54f-9a2af7dbf65f"
      },
      "outputs": [
        {
          "output_type": "stream",
          "name": "stdout",
          "text": [
            "--2024-04-13 22:24:53--  https://raw.githubusercontent.com/McahitKutsal/turk-gpt/main/romeovejulyet.txt\n",
            "Resolving raw.githubusercontent.com (raw.githubusercontent.com)... 185.199.108.133, 185.199.109.133, 185.199.110.133, ...\n",
            "Connecting to raw.githubusercontent.com (raw.githubusercontent.com)|185.199.108.133|:443... connected.\n",
            "HTTP request sent, awaiting response... 200 OK\n",
            "Length: 449622 (439K) [text/plain]\n",
            "Saving to: ‘romeovejulyet.txt’\n",
            "\n",
            "romeovejulyet.txt   100%[===================>] 439.08K  --.-KB/s    in 0.004s  \n",
            "\n",
            "2024-04-13 22:24:54 (109 MB/s) - ‘romeovejulyet.txt’ saved [449622/449622]\n",
            "\n"
          ]
        }
      ],
      "source": [
        "!wget https://raw.githubusercontent.com/McahitKutsal/turk-gpt/main/romeovejulyet.txt"
      ]
    },
    {
      "cell_type": "code",
      "source": [
        "with open('romeovejulyet.txt', 'r', encoding='utf-8') as f:\n",
        "    text = f.read()"
      ],
      "metadata": {
        "id": "O6medjfRsLD9"
      },
      "execution_count": 2,
      "outputs": []
    },
    {
      "cell_type": "code",
      "source": [
        "print(\"length of dataset in characters: \", len(text))"
      ],
      "metadata": {
        "colab": {
          "base_uri": "https://localhost:8080/"
        },
        "id": "6xWI_VyAsN8F",
        "outputId": "f1e97d29-78ad-4854-8ae3-9b430608f43c"
      },
      "execution_count": 3,
      "outputs": [
        {
          "output_type": "stream",
          "name": "stdout",
          "text": [
            "length of dataset in characters:  400810\n"
          ]
        }
      ]
    },
    {
      "cell_type": "code",
      "source": [
        "print(text[:1000])"
      ],
      "metadata": {
        "colab": {
          "base_uri": "https://localhost:8080/"
        },
        "id": "2c5V0FvqseE0",
        "outputId": "b399f687-f441-4440-ef45-b112dd3228b2"
      },
      "execution_count": 4,
      "outputs": [
        {
          "output_type": "stream",
          "name": "stdout",
          "text": [
            "İlk Vatandaş:\n",
            "Daha fazla ilerlemeden önce konuşmamı dinleyin.\n",
            "\n",
            "Tüm:\n",
            "Konuş, konuş.\n",
            "\n",
            "İlk Vatandaş:\n",
            "Hepiniz açlıktan ölmek yerine ölmeye mi karar verdiniz?\n",
            "\n",
            "Tüm:\n",
            "Çözüldü. çözüldü.\n",
            "\n",
            "İlk Vatandaş:\n",
            "Öncelikle Caius Marcius'un halkın baş düşmanı olduğunu biliyorsunuz.\n",
            "\n",
            "Tüm:\n",
            "Bilmiyoruz, bilmiyoruz.\n",
            "\n",
            "İlk Vatandaş:\n",
            "Onu öldürelim ve kendi fiyatımıza mısır alalım.\n",
            "Bir hüküm değil mi?\n",
            "\n",
            "Tüm:\n",
            "Artık konuşmak yok; bırakın yapılsın: uzakta, uzakta!\n",
            "\n",
            "İkinci Vatandaş:\n",
            "Tek kelimeyle iyi vatandaşlar.\n",
            "\n",
            "İlk Vatandaş:\n",
            "Biz fakir vatandaşlar olarak görülüyoruz, soylular ise iyi.\n",
            "Hangi otoritenin fazlalığı bizi rahatlatır: eğer onlar\n",
            "bize fazlalıktan başka bir şey vermezdi, oysa\n",
            "sağlıklı, bizi insanca rahatlattıklarını tahmin edebiliriz;\n",
            "ama bizim çok sevgili olduğumuzu düşünüyorlar: zayıflık\n",
            "bizi üzen, sefaletimizin nesnesi olan,\n",
            "bolluklarını özelleştirmek için envanter; bizim\n",
            "Çekilmek onlar için kazançtır Bunun intikamını onunla alalım\n",
            "mızraklarımız, tırmık olmadan önce: çünkü tanrılar biliyor ki ben\n",
            "Bunu intika\n"
          ]
        }
      ]
    },
    {
      "cell_type": "code",
      "source": [
        "chars = sorted(list(set(text)))\n",
        "vocab_size = len(chars)\n",
        "print(''.join(chars))\n",
        "print(vocab_size)"
      ],
      "metadata": {
        "colab": {
          "base_uri": "https://localhost:8080/"
        },
        "id": "0e-Rbyr8sfM8",
        "outputId": "042703ff-5fb8-4f5b-b822-7288f76d167e"
      },
      "execution_count": 5,
      "outputs": [
        {
          "output_type": "stream",
          "name": "stdout",
          "text": [
            "\n",
            " !\"',-.:;?ABCDEFGHIJKLMNOPQRSTUVWXYZabcdefghijklmnopqrstuvwxyzÇÖÜâçöûüĞğİıŞş\n",
            "77\n"
          ]
        }
      ]
    },
    {
      "cell_type": "code",
      "source": [
        "stoi = { ch:i for i,ch in enumerate(chars) }\n",
        "itos = { i:ch for i,ch in enumerate(chars) }\n",
        "encode = lambda s: [stoi[c] for c in s]\n",
        "decode = lambda l: ''.join([itos[i] for i in l])\n",
        "\n",
        "print(encode(\"hii there\"))\n",
        "print(decode(encode(\"hii there\")))"
      ],
      "metadata": {
        "colab": {
          "base_uri": "https://localhost:8080/"
        },
        "id": "Yw1LKNCgwjj1",
        "outputId": "d79573aa-2c19-4675-84b8-bc468d17ba14"
      },
      "execution_count": 6,
      "outputs": [
        {
          "output_type": "stream",
          "name": "stdout",
          "text": [
            "[44, 45, 45, 1, 56, 44, 41, 54, 41]\n",
            "hii there\n"
          ]
        }
      ]
    },
    {
      "cell_type": "code",
      "source": [
        "import torch\n",
        "data = torch.tensor(encode(text), dtype=torch.long)\n",
        "print(data.shape, data.dtype)\n",
        "print(data[:1000])"
      ],
      "metadata": {
        "colab": {
          "base_uri": "https://localhost:8080/"
        },
        "id": "YJb0OXPwzvqg",
        "outputId": "d78657f3-4f09-4cf1-aede-5a430600286c"
      },
      "execution_count": 7,
      "outputs": [
        {
          "output_type": "stream",
          "name": "stdout",
          "text": [
            "torch.Size([400810]) torch.int64\n",
            "tensor([73, 48, 47,  1, 32, 37, 56, 37, 50, 40, 37, 76,  8,  0, 14, 37, 44, 37,\n",
            "         1, 42, 37, 62, 48, 37,  1, 45, 48, 41, 54, 48, 41, 49, 41, 40, 41, 50,\n",
            "         1, 68, 50, 39, 41,  1, 47, 51, 50, 57, 76, 49, 37, 49, 74,  1, 40, 45,\n",
            "        50, 48, 41, 61, 45, 50,  7,  0,  0, 30, 70, 49,  8,  0, 21, 51, 50, 57,\n",
            "        76,  5,  1, 47, 51, 50, 57, 76,  7,  0,  0, 73, 48, 47,  1, 32, 37, 56,\n",
            "        37, 50, 40, 37, 76,  8,  0, 18, 41, 52, 45, 50, 45, 62,  1, 37, 67, 48,\n",
            "        74, 47, 56, 37, 50,  1, 68, 48, 49, 41, 47,  1, 61, 41, 54, 45, 50, 41,\n",
            "         1, 68, 48, 49, 41, 61, 41,  1, 49, 45,  1, 47, 37, 54, 37, 54,  1, 58,\n",
            "        41, 54, 40, 45, 50, 45, 62, 10,  0,  0, 30, 70, 49,  8,  0, 63, 68, 62,\n",
            "        70, 48, 40, 70,  7,  1, 67, 68, 62, 70, 48, 40, 70,  7,  0,  0, 73, 48,\n",
            "        47,  1, 32, 37, 56, 37, 50, 40, 37, 76,  8,  0, 64, 50, 39, 41, 48, 45,\n",
            "        47, 48, 41,  1, 13, 37, 45, 57, 55,  1, 23, 37, 54, 39, 45, 57, 55,  4,\n",
            "        57, 50,  1, 44, 37, 48, 47, 74, 50,  1, 38, 37, 76,  1, 40, 70, 76, 49,\n",
            "        37, 50, 74,  1, 51, 48, 40, 57, 72, 57, 50, 57,  1, 38, 45, 48, 45, 61,\n",
            "        51, 54, 55, 57, 50, 57, 62,  7,  0,  0, 30, 70, 49,  8,  0, 12, 45, 48,\n",
            "        49, 45, 61, 51, 54, 57, 62,  5,  1, 38, 45, 48, 49, 45, 61, 51, 54, 57,\n",
            "        62,  7,  0,  0, 73, 48, 47,  1, 32, 37, 56, 37, 50, 40, 37, 76,  8,  0,\n",
            "        25, 50, 57,  1, 68, 48, 40, 70, 54, 41, 48, 45, 49,  1, 58, 41,  1, 47,\n",
            "        41, 50, 40, 45,  1, 42, 45, 61, 37, 56, 74, 49, 74, 62, 37,  1, 49, 74,\n",
            "        55, 74, 54,  1, 37, 48, 37, 48, 74, 49,  7,  0, 12, 45, 54,  1, 44, 70,\n",
            "        47, 70, 49,  1, 40, 41, 72, 45, 48,  1, 49, 45, 10,  0,  0, 30, 70, 49,\n",
            "         8,  0, 11, 54, 56, 74, 47,  1, 47, 51, 50, 57, 76, 49, 37, 47,  1, 61,\n",
            "        51, 47,  9,  1, 38, 74, 54, 37, 47, 74, 50,  1, 61, 37, 52, 74, 48, 55,\n",
            "        74, 50,  8,  1, 57, 62, 37, 47, 56, 37,  5,  1, 57, 62, 37, 47, 56, 37,\n",
            "         2,  0,  0, 73, 47, 45, 50, 39, 45,  1, 32, 37, 56, 37, 50, 40, 37, 76,\n",
            "         8,  0, 30, 41, 47,  1, 47, 41, 48, 45, 49, 41, 61, 48, 41,  1, 45, 61,\n",
            "        45,  1, 58, 37, 56, 37, 50, 40, 37, 76, 48, 37, 54,  7,  0,  0, 73, 48,\n",
            "        47,  1, 32, 37, 56, 37, 50, 40, 37, 76,  8,  0, 12, 45, 62,  1, 42, 37,\n",
            "        47, 45, 54,  1, 58, 37, 56, 37, 50, 40, 37, 76, 48, 37, 54,  1, 51, 48,\n",
            "        37, 54, 37, 47,  1, 43, 68, 54, 70, 48, 70, 61, 51, 54, 57, 62,  5,  1,\n",
            "        55, 51, 61, 48, 57, 48, 37, 54,  1, 45, 55, 41,  1, 45, 61, 45,  7,  0,\n",
            "        18, 37, 50, 43, 45,  1, 51, 56, 51, 54, 45, 56, 41, 50, 45, 50,  1, 42,\n",
            "        37, 62, 48, 37, 48, 74, 72, 74,  1, 38, 45, 62, 45,  1, 54, 37, 44, 37,\n",
            "        56, 48, 37, 56, 74, 54,  8,  1, 41, 72, 41, 54,  1, 51, 50, 48, 37, 54,\n",
            "         0, 38, 45, 62, 41,  1, 42, 37, 62, 48, 37, 48, 74, 47, 56, 37, 50,  1,\n",
            "        38, 37, 76, 47, 37,  1, 38, 45, 54,  1, 76, 41, 61,  1, 58, 41, 54, 49,\n",
            "        41, 62, 40, 45,  5,  1, 51, 61, 55, 37,  0, 55, 37, 72, 48, 74, 47, 48,\n",
            "        74,  5,  1, 38, 45, 62, 45,  1, 45, 50, 55, 37, 50, 39, 37,  1, 54, 37,\n",
            "        44, 37, 56, 48, 37, 56, 56, 74, 47, 48, 37, 54, 74, 50, 74,  1, 56, 37,\n",
            "        44, 49, 45, 50,  1, 41, 40, 41, 38, 45, 48, 45, 54, 45, 62,  9,  0, 37,\n",
            "        49, 37,  1, 38, 45, 62, 45, 49,  1, 67, 51, 47,  1, 55, 41, 58, 43, 45,\n",
            "        48, 45,  1, 51, 48, 40, 57, 72, 57, 49, 57, 62, 57,  1, 40, 70, 76, 70,\n",
            "        50, 70, 61, 51, 54, 48, 37, 54,  8,  1, 62, 37, 61, 74, 42, 48, 74, 47,\n",
            "         0, 38, 45, 62, 45,  1, 70, 62, 41, 50,  5,  1, 55, 41, 42, 37, 48, 41,\n",
            "        56, 45, 49, 45, 62, 45, 50,  1, 50, 41, 55, 50, 41, 55, 45,  1, 51, 48,\n",
            "        37, 50,  5,  0, 38, 51, 48, 48, 57, 47, 48, 37, 54, 74, 50, 74,  1, 68,\n",
            "        62, 41, 48, 48, 41, 76, 56, 45, 54, 49, 41, 47,  1, 45, 67, 45, 50,  1,\n",
            "        41, 50, 58, 37, 50, 56, 41, 54,  9,  1, 38, 45, 62, 45, 49,  0, 63, 41,\n",
            "        47, 45, 48, 49, 41, 47,  1, 51, 50, 48, 37, 54,  1, 45, 67, 45, 50,  1,\n",
            "        47, 37, 62, 37, 50, 67, 56, 74, 54,  1, 12, 57, 50, 57, 50,  1, 45, 50,\n",
            "        56, 45, 47, 37, 49, 74, 50, 74,  1, 51, 50, 57, 50, 48, 37,  1, 37, 48,\n",
            "        37, 48, 74, 49,  0, 49, 74, 62, 54, 37, 47, 48, 37, 54, 74, 49, 74, 62,\n",
            "         5,  1, 56, 74, 54, 49, 74, 47,  1, 51, 48, 49, 37, 40, 37, 50,  1, 68,\n",
            "        50, 39, 41,  8,  1, 67, 70, 50, 47, 70,  1, 56, 37, 50, 54, 74, 48, 37,\n",
            "        54,  1, 38, 45, 48, 45, 61, 51, 54,  1, 47, 45,  1, 38, 41, 50,  0, 12,\n",
            "        57, 50, 57,  1, 45, 50, 56, 45, 47, 37])\n"
          ]
        }
      ]
    },
    {
      "cell_type": "code",
      "source": [
        "n = int(0.9*len(data))\n",
        "train_data = data[:n]\n",
        "val_data = data[n:]"
      ],
      "metadata": {
        "id": "f_WIXqxz0lU5"
      },
      "execution_count": 8,
      "outputs": []
    },
    {
      "cell_type": "code",
      "source": [
        "block_size = 8\n",
        "train_data[:block_size+1]"
      ],
      "metadata": {
        "colab": {
          "base_uri": "https://localhost:8080/"
        },
        "id": "TD5Bj8Y6IAD4",
        "outputId": "c2f4750d-e890-44a2-c1b2-c9b5bba1763f"
      },
      "execution_count": 9,
      "outputs": [
        {
          "output_type": "execute_result",
          "data": {
            "text/plain": [
              "tensor([73, 48, 47,  1, 32, 37, 56, 37, 50])"
            ]
          },
          "metadata": {},
          "execution_count": 9
        }
      ]
    },
    {
      "cell_type": "code",
      "source": [
        "x = train_data[:block_size]\n",
        "y = train_data[1:block_size+1]\n",
        "for t in range(block_size):\n",
        "    context = x[:t+1]\n",
        "    target = y[t]\n",
        "    print(f\"when input is {context} the target: {target}\")"
      ],
      "metadata": {
        "colab": {
          "base_uri": "https://localhost:8080/"
        },
        "id": "9HXDe8vGJCEn",
        "outputId": "cd9732b3-fe43-467b-a29d-451e019b287d"
      },
      "execution_count": 10,
      "outputs": [
        {
          "output_type": "stream",
          "name": "stdout",
          "text": [
            "when input is tensor([73]) the target: 48\n",
            "when input is tensor([73, 48]) the target: 47\n",
            "when input is tensor([73, 48, 47]) the target: 1\n",
            "when input is tensor([73, 48, 47,  1]) the target: 32\n",
            "when input is tensor([73, 48, 47,  1, 32]) the target: 37\n",
            "when input is tensor([73, 48, 47,  1, 32, 37]) the target: 56\n",
            "when input is tensor([73, 48, 47,  1, 32, 37, 56]) the target: 37\n",
            "when input is tensor([73, 48, 47,  1, 32, 37, 56, 37]) the target: 50\n"
          ]
        }
      ]
    },
    {
      "cell_type": "code",
      "source": [
        "torch.manual_seed(1337)\n",
        "batch_size = 4\n",
        "block_size = 8\n",
        "\n",
        "def get_batch(split):\n",
        "    data = train_data if split == 'train' else val_data\n",
        "    ix = torch.randint(len(data) - block_size, (batch_size,))\n",
        "    x = torch.stack([data[i:i+block_size] for i in ix])\n",
        "    y = torch.stack([data[i+1:i+block_size+1] for i in ix])\n",
        "    return x, y\n",
        "\n",
        "xb, yb = get_batch('train')\n",
        "print('inputs:')\n",
        "print(xb.shape)\n",
        "print(xb)\n",
        "print('targets:')\n",
        "print(yb.shape)\n",
        "print(yb)\n",
        "\n",
        "print('----')\n",
        "\n",
        "for b in range(batch_size):\n",
        "    for t in range(block_size):\n",
        "        context = xb[b, :t+1]\n",
        "        target = yb[b,t]\n",
        "        print(f\"when input is {context.tolist()} the target: {target}\")"
      ],
      "metadata": {
        "colab": {
          "base_uri": "https://localhost:8080/"
        },
        "id": "Q3k1Czf7LuA9",
        "outputId": "1d6731a4-efed-4fc7-aecc-e475ac84cf16"
      },
      "execution_count": 11,
      "outputs": [
        {
          "output_type": "stream",
          "name": "stdout",
          "text": [
            "inputs:\n",
            "torch.Size([4, 8])\n",
            "tensor([[73, 63, 15,  1, 15, 22, 73, 36],\n",
            "        [54,  1, 47, 74, 55, 74, 49, 48],\n",
            "        [41, 48, 37, 49, 55, 74, 62,  1],\n",
            "        [ 1, 43, 41, 67, 41, 54, 55, 41]])\n",
            "targets:\n",
            "torch.Size([4, 8])\n",
            "tensor([[63, 15,  1, 15, 22, 73, 36, 11],\n",
            "        [ 1, 47, 74, 55, 74, 49, 48, 37],\n",
            "        [48, 37, 49, 55, 74, 62,  1, 38],\n",
            "        [43, 41, 67, 41, 54, 55, 41, 50]])\n",
            "----\n",
            "when input is [73] the target: 63\n",
            "when input is [73, 63] the target: 15\n",
            "when input is [73, 63, 15] the target: 1\n",
            "when input is [73, 63, 15, 1] the target: 15\n",
            "when input is [73, 63, 15, 1, 15] the target: 22\n",
            "when input is [73, 63, 15, 1, 15, 22] the target: 73\n",
            "when input is [73, 63, 15, 1, 15, 22, 73] the target: 36\n",
            "when input is [73, 63, 15, 1, 15, 22, 73, 36] the target: 11\n",
            "when input is [54] the target: 1\n",
            "when input is [54, 1] the target: 47\n",
            "when input is [54, 1, 47] the target: 74\n",
            "when input is [54, 1, 47, 74] the target: 55\n",
            "when input is [54, 1, 47, 74, 55] the target: 74\n",
            "when input is [54, 1, 47, 74, 55, 74] the target: 49\n",
            "when input is [54, 1, 47, 74, 55, 74, 49] the target: 48\n",
            "when input is [54, 1, 47, 74, 55, 74, 49, 48] the target: 37\n",
            "when input is [41] the target: 48\n",
            "when input is [41, 48] the target: 37\n",
            "when input is [41, 48, 37] the target: 49\n",
            "when input is [41, 48, 37, 49] the target: 55\n",
            "when input is [41, 48, 37, 49, 55] the target: 74\n",
            "when input is [41, 48, 37, 49, 55, 74] the target: 62\n",
            "when input is [41, 48, 37, 49, 55, 74, 62] the target: 1\n",
            "when input is [41, 48, 37, 49, 55, 74, 62, 1] the target: 38\n",
            "when input is [1] the target: 43\n",
            "when input is [1, 43] the target: 41\n",
            "when input is [1, 43, 41] the target: 67\n",
            "when input is [1, 43, 41, 67] the target: 41\n",
            "when input is [1, 43, 41, 67, 41] the target: 54\n",
            "when input is [1, 43, 41, 67, 41, 54] the target: 55\n",
            "when input is [1, 43, 41, 67, 41, 54, 55] the target: 41\n",
            "when input is [1, 43, 41, 67, 41, 54, 55, 41] the target: 50\n"
          ]
        }
      ]
    },
    {
      "cell_type": "code",
      "source": [
        "print(xb)"
      ],
      "metadata": {
        "colab": {
          "base_uri": "https://localhost:8080/"
        },
        "id": "qpyyAeIzQjlO",
        "outputId": "65f8a740-d2da-49ad-bd8c-060e98fa97bf"
      },
      "execution_count": 12,
      "outputs": [
        {
          "output_type": "stream",
          "name": "stdout",
          "text": [
            "tensor([[73, 63, 15,  1, 15, 22, 73, 36],\n",
            "        [54,  1, 47, 74, 55, 74, 49, 48],\n",
            "        [41, 48, 37, 49, 55, 74, 62,  1],\n",
            "        [ 1, 43, 41, 67, 41, 54, 55, 41]])\n"
          ]
        }
      ]
    },
    {
      "cell_type": "code",
      "source": [
        "import torch\n",
        "import torch.nn as nn\n",
        "from torch.nn import functional as F\n",
        "torch.manual_seed(1337)\n",
        "\n",
        "class BigramLanguageModel(nn.Module):\n",
        "\n",
        "    def __init__(self, vocab_size):\n",
        "        super().__init__()\n",
        "        self.token_embedding_table = nn.Embedding(vocab_size, vocab_size)\n",
        "\n",
        "    def forward(self, idx, targets=None):\n",
        "\n",
        "        logits = self.token_embedding_table(idx) # (B,T,C)\n",
        "\n",
        "        if targets is None:\n",
        "            loss = None\n",
        "        else:\n",
        "            B, T, C = logits.shape\n",
        "            logits = logits.view(B*T, C)\n",
        "            targets = targets.view(B*T)\n",
        "            loss = F.cross_entropy(logits, targets)\n",
        "\n",
        "        return logits, loss\n",
        "\n",
        "    def generate(self, idx, max_new_tokens):\n",
        "        for _ in range(max_new_tokens):\n",
        "            logits, loss = self(idx)\n",
        "            logits = logits[:, -1, :] # becomes (B, C)\n",
        "            probs = F.softmax(logits, dim=-1) # (B, C)\n",
        "            idx_next = torch.multinomial(probs, num_samples=1) # (B, 1)\n",
        "            idx = torch.cat((idx, idx_next), dim=1) # (B, T+1)\n",
        "        return idx\n",
        "\n",
        "m = BigramLanguageModel(vocab_size)\n",
        "logits, loss = m(xb, yb)\n",
        "print(logits.shape)\n",
        "print(loss)\n",
        "\n",
        "print(decode(m.generate(idx = torch.zeros((1, 1), dtype=torch.long), max_new_tokens=100)[0].tolist()))\n"
      ],
      "metadata": {
        "colab": {
          "base_uri": "https://localhost:8080/"
        },
        "id": "nql_1ER53oCf",
        "outputId": "4493536e-b829-4dd6-f9fa-261e41f1845d"
      },
      "execution_count": 13,
      "outputs": [
        {
          "output_type": "stream",
          "name": "stdout",
          "text": [
            "torch.Size([32, 77])\n",
            "tensor(5.0522, grad_fn=<NllLossBackward0>)\n",
            "\n",
            "qGümW \n",
            "ESGğnJ;IUFâöJIiqCir\"Ut!l!ŞLW'tç.tV!SdÜ'tQ-üEüI\n",
            "zDÜpkJHa--Y\n",
            "üFdYY'wvB ÜPVÖnpşJpzRvsOIöAqSePö Ü\n"
          ]
        }
      ]
    },
    {
      "cell_type": "code",
      "source": [
        "optimizer = torch.optim.AdamW(m.parameters(), lr=1e-3)"
      ],
      "metadata": {
        "id": "eTyJ8qAaDdiF"
      },
      "execution_count": 14,
      "outputs": []
    },
    {
      "cell_type": "code",
      "source": [
        "batch_size = 32\n",
        "for steps in range(100):\n",
        "\n",
        "    xb, yb = get_batch('train')\n",
        "\n",
        "    logits, loss = m(xb, yb)\n",
        "    optimizer.zero_grad(set_to_none=True)\n",
        "    loss.backward()\n",
        "    optimizer.step()\n",
        "\n",
        "print(loss.item())\n"
      ],
      "metadata": {
        "colab": {
          "base_uri": "https://localhost:8080/"
        },
        "id": "Hs4kI8YdEkQj",
        "outputId": "0f168349-da93-452f-c21d-15ed214d2207"
      },
      "execution_count": 15,
      "outputs": [
        {
          "output_type": "stream",
          "name": "stdout",
          "text": [
            "4.6897172927856445\n"
          ]
        }
      ]
    },
    {
      "cell_type": "code",
      "source": [
        "print(decode(m.generate(idx = torch.zeros((1, 1), dtype=torch.long), max_new_tokens=500)[0].tolist()))"
      ],
      "metadata": {
        "colab": {
          "base_uri": "https://localhost:8080/"
        },
        "id": "EcVIDWAZEtjN",
        "outputId": "6abdeccc-a337-4cc8-ea8f-1f4e76e89415"
      },
      "execution_count": 16,
      "outputs": [
        {
          "output_type": "stream",
          "name": "stdout",
          "text": [
            "\n",
            "vZİĞjdğWÖtFcçMNOŞİeLz \"Ğ?â.\"WQAfsvM:m:PPçfab?ÖnsÜJ;IiUZYğSREÖüwOİDc.dûû!\"JqnfÖötçf\n",
            "ğzjCLa-öÜae\".BzzEİŞ-fLdT g,ZQA,w\"ljqgPTR:Uqş;bHûÇKMPöZcXıĞ?ÖhdogDD'AÇcjdÇoWIöOxÖW.R!iFZcp\n",
            "ÇÖqrisOıyüY?dpZI!VivbrToÜpÖŞ'BĞrPKu!d-jdLkJÜlvOİöÜEVG'EÖHVJ öQÇNYVdTrTfEaMNwİNûH;T,siıO\n",
            "ğZYpMhR\n",
            "q?z;XvkN?pkİoszVhj\n",
            "xSG:mhHV\"lıuÇkWoWĞıuJCtRmZWx?\n",
            "qdgfrOPk\"-zşsJQtntvqAPRşMĞ;vrÖWK şr-oİysQFmZ;eszüXbg \n",
            "lMoĞJÖsDkOpHPf MŞMİolğiâjQÇıÇXPŞnYDmûq?,C?-os:C?ÜGx?ĞÖhSçfnsOhfyöNâ,wÇnneO.KmgOE-OŞÜBibDZtAUxUFRRQ\"fLzrQcjPkPQİdÇiç;,-!ıs.hinsyŞ\n"
          ]
        }
      ]
    },
    {
      "cell_type": "markdown",
      "source": [
        "## The mathematical trick in self-attention"
      ],
      "metadata": {
        "id": "XinV8nmAnmKN"
      }
    },
    {
      "cell_type": "code",
      "source": [
        "torch.manual_seed(42)\n",
        "a = torch.tril(torch.ones(3, 3))\n",
        "a = a / torch.sum(a, 1, keepdim=True)\n",
        "b = torch.randint(0,10,(3,2)).float()\n",
        "c = a @ b\n",
        "print('a=')\n",
        "print(a)\n",
        "print('--')\n",
        "print('b=')\n",
        "print(b)\n",
        "print('--')\n",
        "print('c=')\n",
        "print(c)"
      ],
      "metadata": {
        "colab": {
          "base_uri": "https://localhost:8080/"
        },
        "id": "tukiH-NbRBhA",
        "outputId": "b7b11edf-4d22-4841-9012-e135354a513c"
      },
      "execution_count": 17,
      "outputs": [
        {
          "output_type": "stream",
          "name": "stdout",
          "text": [
            "a=\n",
            "tensor([[1.0000, 0.0000, 0.0000],\n",
            "        [0.5000, 0.5000, 0.0000],\n",
            "        [0.3333, 0.3333, 0.3333]])\n",
            "--\n",
            "b=\n",
            "tensor([[2., 7.],\n",
            "        [6., 4.],\n",
            "        [6., 5.]])\n",
            "--\n",
            "c=\n",
            "tensor([[2.0000, 7.0000],\n",
            "        [4.0000, 5.5000],\n",
            "        [4.6667, 5.3333]])\n"
          ]
        }
      ]
    },
    {
      "cell_type": "code",
      "source": [
        "\n",
        "torch.manual_seed(1337)\n",
        "B,T,C = 4,8,2\n",
        "x = torch.randn(B,T,C)\n",
        "x.shape"
      ],
      "metadata": {
        "colab": {
          "base_uri": "https://localhost:8080/"
        },
        "id": "Hs_E24uRE8kr",
        "outputId": "383574b7-f42e-4611-b36f-2b073568e05a"
      },
      "execution_count": 18,
      "outputs": [
        {
          "output_type": "execute_result",
          "data": {
            "text/plain": [
              "torch.Size([4, 8, 2])"
            ]
          },
          "metadata": {},
          "execution_count": 18
        }
      ]
    },
    {
      "cell_type": "code",
      "source": [
        "xbow = torch.zeros((B,T,C))\n",
        "for b in range(B):\n",
        "    for t in range(T):\n",
        "        xprev = x[b,:t+1]\n",
        "        xbow[b,t] = torch.mean(xprev, 0)\n"
      ],
      "metadata": {
        "id": "86NuXX0fn7ps"
      },
      "execution_count": 19,
      "outputs": []
    },
    {
      "cell_type": "code",
      "source": [
        "wei = torch.tril(torch.ones(T, T))\n",
        "wei = wei / wei.sum(1, keepdim=True)\n",
        "xbow2 = wei @ x\n",
        "torch.allclose(xbow, xbow2)"
      ],
      "metadata": {
        "colab": {
          "base_uri": "https://localhost:8080/"
        },
        "id": "yhdOAd6-wXkZ",
        "outputId": "635005e4-b72f-417f-e874-a4cbb8bc6bdf"
      },
      "execution_count": 20,
      "outputs": [
        {
          "output_type": "execute_result",
          "data": {
            "text/plain": [
              "False"
            ]
          },
          "metadata": {},
          "execution_count": 20
        }
      ]
    },
    {
      "cell_type": "code",
      "source": [
        "tril = torch.tril(torch.ones(T, T))\n",
        "wei = torch.zeros((T,T))\n",
        "wei = wei.masked_fill(tril == 0, float('-inf'))\n",
        "wei = F.softmax(wei, dim=-1)\n",
        "xbow3 = wei @ x\n",
        "torch.allclose(xbow, xbow3)\n"
      ],
      "metadata": {
        "colab": {
          "base_uri": "https://localhost:8080/"
        },
        "id": "wOURrfG-ysoL",
        "outputId": "88b34009-3f98-47d9-910e-32294f99b2c8"
      },
      "execution_count": 21,
      "outputs": [
        {
          "output_type": "execute_result",
          "data": {
            "text/plain": [
              "False"
            ]
          },
          "metadata": {},
          "execution_count": 21
        }
      ]
    },
    {
      "cell_type": "code",
      "source": [
        "torch.manual_seed(1337)\n",
        "B,T,C = 4,8,32\n",
        "x = torch.randn(B,T,C)\n",
        "\n",
        "head_size = 16\n",
        "key = nn.Linear(C, head_size, bias=False)\n",
        "query = nn.Linear(C, head_size, bias=False)\n",
        "value = nn.Linear(C, head_size, bias=False)\n",
        "k = key(x)\n",
        "q = query(x)\n",
        "wei =  q @ k.transpose(-2, -1)\n",
        "\n",
        "tril = torch.tril(torch.ones(T, T))\n",
        "wei = wei.masked_fill(tril == 0, float('-inf'))\n",
        "wei = F.softmax(wei, dim=-1)\n",
        "\n",
        "v = value(x)\n",
        "out = wei @ v\n",
        "\n",
        "out.shape"
      ],
      "metadata": {
        "colab": {
          "base_uri": "https://localhost:8080/"
        },
        "id": "EDarxEWIRMKq",
        "outputId": "400eb5f0-2a7f-4cf8-f0e1-72d1f2866086"
      },
      "execution_count": 22,
      "outputs": [
        {
          "output_type": "execute_result",
          "data": {
            "text/plain": [
              "torch.Size([4, 8, 16])"
            ]
          },
          "metadata": {},
          "execution_count": 22
        }
      ]
    },
    {
      "cell_type": "code",
      "source": [
        "k = torch.randn(B,T,head_size)\n",
        "q = torch.randn(B,T,head_size)\n",
        "wei = q @ k.transpose(-2, -1) * head_size**-0.5"
      ],
      "metadata": {
        "id": "4SNbLq5z3oBw"
      },
      "execution_count": 24,
      "outputs": []
    },
    {
      "cell_type": "code",
      "source": [
        "k.var()"
      ],
      "metadata": {
        "colab": {
          "base_uri": "https://localhost:8080/"
        },
        "id": "Nl6I9n9IRTSo",
        "outputId": "d7d3c7ae-e469-4507-9cd6-d6d401ae5e07"
      },
      "execution_count": 25,
      "outputs": [
        {
          "output_type": "execute_result",
          "data": {
            "text/plain": [
              "tensor(1.0449)"
            ]
          },
          "metadata": {},
          "execution_count": 25
        }
      ]
    },
    {
      "cell_type": "code",
      "source": [
        "q.var()"
      ],
      "metadata": {
        "colab": {
          "base_uri": "https://localhost:8080/"
        },
        "id": "T1tQx7oeRvtc",
        "outputId": "1ac4325f-9e6d-4e72-ec29-dcc407b3c8c8"
      },
      "execution_count": 26,
      "outputs": [
        {
          "output_type": "execute_result",
          "data": {
            "text/plain": [
              "tensor(1.0700)"
            ]
          },
          "metadata": {},
          "execution_count": 26
        }
      ]
    },
    {
      "cell_type": "code",
      "source": [
        "wei.var()"
      ],
      "metadata": {
        "colab": {
          "base_uri": "https://localhost:8080/"
        },
        "id": "MLb_odHU3iKM",
        "outputId": "a22db435-b184-402b-bd1b-f66f6bee3d1f"
      },
      "execution_count": 27,
      "outputs": [
        {
          "output_type": "execute_result",
          "data": {
            "text/plain": [
              "tensor(1.0918)"
            ]
          },
          "metadata": {},
          "execution_count": 27
        }
      ]
    },
    {
      "cell_type": "code",
      "source": [
        "torch.softmax(torch.tensor([0.1, -0.2, 0.3, -0.2, 0.5]), dim=-1)"
      ],
      "metadata": {
        "colab": {
          "base_uri": "https://localhost:8080/"
        },
        "id": "JB82yzt44REI",
        "outputId": "7c9522c4-a2d3-4b77-b671-55c05c669029"
      },
      "execution_count": 28,
      "outputs": [
        {
          "output_type": "execute_result",
          "data": {
            "text/plain": [
              "tensor([0.1925, 0.1426, 0.2351, 0.1426, 0.2872])"
            ]
          },
          "metadata": {},
          "execution_count": 28
        }
      ]
    },
    {
      "cell_type": "code",
      "source": [
        "torch.softmax(torch.tensor([0.1, -0.2, 0.3, -0.2, 0.5])*8, dim=-1)"
      ],
      "metadata": {
        "colab": {
          "base_uri": "https://localhost:8080/"
        },
        "id": "Mpt8569BB9_f",
        "outputId": "9c9d2d97-a97f-4c06-de6d-918cfbe8f906"
      },
      "execution_count": 29,
      "outputs": [
        {
          "output_type": "execute_result",
          "data": {
            "text/plain": [
              "tensor([0.0326, 0.0030, 0.1615, 0.0030, 0.8000])"
            ]
          },
          "metadata": {},
          "execution_count": 29
        }
      ]
    },
    {
      "cell_type": "code",
      "source": [
        "class LayerNorm1d:\n",
        "  def __init__(self, dim, eps=1e-5, momentum=0.1):\n",
        "    self.eps = eps\n",
        "    self.gamma = torch.ones(dim)\n",
        "    self.beta = torch.zeros(dim)\n",
        "\n",
        "  def __call__(self, x):\n",
        "    xmean = x.mean(1, keepdim=True) # batch mean\n",
        "    xvar = x.var(1, keepdim=True) # batch variance\n",
        "    xhat = (x - xmean) / torch.sqrt(xvar + self.eps) # normalize to unit variance\n",
        "    self.out = self.gamma * xhat + self.beta\n",
        "    return self.out\n",
        "\n",
        "  def parameters(self):\n",
        "    return [self.gamma, self.beta]\n",
        "\n",
        "torch.manual_seed(1337)\n",
        "module = LayerNorm1d(100)\n",
        "x = torch.randn(32, 100)\n",
        "x = module(x)\n",
        "x.shape"
      ],
      "metadata": {
        "colab": {
          "base_uri": "https://localhost:8080/"
        },
        "id": "2Num7sX9CKOH",
        "outputId": "a1ed1653-9594-4729-dd15-31e674b5adee"
      },
      "execution_count": 30,
      "outputs": [
        {
          "output_type": "execute_result",
          "data": {
            "text/plain": [
              "torch.Size([32, 100])"
            ]
          },
          "metadata": {},
          "execution_count": 30
        }
      ]
    },
    {
      "cell_type": "code",
      "source": [
        "x[:,0].mean(), x[:,0].std()"
      ],
      "metadata": {
        "colab": {
          "base_uri": "https://localhost:8080/"
        },
        "id": "633T2cmnW1uk",
        "outputId": "7dcee02e-7b13-483a-b1d8-451eb491fb78"
      },
      "execution_count": 31,
      "outputs": [
        {
          "output_type": "execute_result",
          "data": {
            "text/plain": [
              "(tensor(0.1469), tensor(0.8803))"
            ]
          },
          "metadata": {},
          "execution_count": 31
        }
      ]
    },
    {
      "cell_type": "code",
      "source": [
        "x[0,:].mean(), x[0,:].std()"
      ],
      "metadata": {
        "colab": {
          "base_uri": "https://localhost:8080/"
        },
        "id": "LN9cK9BoXCYb",
        "outputId": "9116df02-0b6c-46a5-d774-4e0bf17c59ce"
      },
      "execution_count": 32,
      "outputs": [
        {
          "output_type": "execute_result",
          "data": {
            "text/plain": [
              "(tensor(-9.5367e-09), tensor(1.0000))"
            ]
          },
          "metadata": {},
          "execution_count": 32
        }
      ]
    },
    {
      "cell_type": "markdown",
      "source": [
        "### Full finished code, for reference\n",
        "\n",
        "You may want to refer directly to the git repo instead though."
      ],
      "metadata": {
        "id": "ZcvKeBXoZFOY"
      }
    },
    {
      "cell_type": "code",
      "source": [
        "from google.colab import files\n",
        "from google.colab import drive\n",
        "drive.mount('/content/drive')"
      ],
      "metadata": {
        "colab": {
          "base_uri": "https://localhost:8080/"
        },
        "id": "ZsRjYZq8jxc9",
        "outputId": "3051dff0-72c5-4002-d5a5-7766d06896ab"
      },
      "execution_count": 34,
      "outputs": [
        {
          "output_type": "stream",
          "name": "stdout",
          "text": [
            "Mounted at /content/drive\n"
          ]
        }
      ]
    },
    {
      "cell_type": "code",
      "source": [
        "import torch\n",
        "import torch.nn as nn\n",
        "from torch.nn import functional as F\n",
        "\n",
        "# hyperparameters\n",
        "batch_size = 64 # how many independent sequences will we process in parallel?\n",
        "block_size = 256\n",
        "max_iters = 20000\n",
        "eval_interval = 1000\n",
        "learning_rate = 1e-4\n",
        "device = 'cuda' if torch.cuda.is_available() else 'cpu'\n",
        "eval_iters = 200\n",
        "n_embd = 384\n",
        "n_head = 8\n",
        "n_layer = 8\n",
        "dropout = 0.2\n",
        "# ------------\n",
        "\n",
        "torch.manual_seed(1337)\n",
        "\n",
        "with open('romeovejulyet.txt', 'r', encoding='utf-8') as f:\n",
        "    text = f.read()\n",
        "\n",
        "chars = sorted(list(set(text)))\n",
        "vocab_size = len(chars)\n",
        "stoi = { ch:i for i,ch in enumerate(chars) }\n",
        "itos = { i:ch for i,ch in enumerate(chars) }\n",
        "encode = lambda s: [stoi[c] for c in s]\n",
        "decode = lambda l: ''.join([itos[i] for i in l])\n",
        "\n",
        "data = torch.tensor(encode(text), dtype=torch.long)\n",
        "n = int(0.9*len(data))\n",
        "train_data = data[:n]\n",
        "val_data = data[n:]\n",
        "\n",
        "def get_batch(split):\n",
        "    data = train_data if split == 'train' else val_data\n",
        "    ix = torch.randint(len(data) - block_size, (batch_size,))\n",
        "    x = torch.stack([data[i:i+block_size] for i in ix])\n",
        "    y = torch.stack([data[i+1:i+block_size+1] for i in ix])\n",
        "    x, y = x.to(device), y.to(device)\n",
        "    return x, y\n",
        "\n",
        "@torch.no_grad()\n",
        "def estimate_loss():\n",
        "    out = {}\n",
        "    model.eval()\n",
        "    for split in ['train', 'val']:\n",
        "        losses = torch.zeros(eval_iters)\n",
        "        for k in range(eval_iters):\n",
        "            X, Y = get_batch(split)\n",
        "            logits, loss = model(X, Y)\n",
        "            losses[k] = loss.item()\n",
        "        out[split] = losses.mean()\n",
        "    model.train()\n",
        "    return out\n",
        "\n",
        "class Head(nn.Module):\n",
        "    \"\"\" one head of self-attention \"\"\"\n",
        "\n",
        "    def __init__(self, head_size):\n",
        "        super().__init__()\n",
        "        self.key = nn.Linear(n_embd, head_size, bias=False)\n",
        "        self.query = nn.Linear(n_embd, head_size, bias=False)\n",
        "        self.value = nn.Linear(n_embd, head_size, bias=False)\n",
        "        self.register_buffer('tril', torch.tril(torch.ones(block_size, block_size)))\n",
        "\n",
        "        self.dropout = nn.Dropout(dropout)\n",
        "\n",
        "    def forward(self, x):\n",
        "        B,T,C = x.shape\n",
        "        k = self.key(x)   # (B,T,C)\n",
        "        q = self.query(x) # (B,T,C)\n",
        "        wei = q @ k.transpose(-2,-1) * C**-0.5\n",
        "        wei = wei.masked_fill(self.tril[:T, :T] == 0, float('-inf'))\n",
        "        wei = F.softmax(wei, dim=-1)\n",
        "        wei = self.dropout(wei)\n",
        "        v = self.value(x)\n",
        "        out = wei @ v\n",
        "        return out\n",
        "\n",
        "class MultiHeadAttention(nn.Module):\n",
        "    \"\"\" multiple heads of self-attention in parallel \"\"\"\n",
        "\n",
        "    def __init__(self, num_heads, head_size):\n",
        "        super().__init__()\n",
        "        self.heads = nn.ModuleList([Head(head_size) for _ in range(num_heads)])\n",
        "        self.proj = nn.Linear(n_embd, n_embd)\n",
        "        self.dropout = nn.Dropout(dropout)\n",
        "\n",
        "    def forward(self, x):\n",
        "        out = torch.cat([h(x) for h in self.heads], dim=-1)\n",
        "        out = self.dropout(self.proj(out))\n",
        "        return out\n",
        "\n",
        "class FeedFoward(nn.Module):\n",
        "    \"\"\" a simple linear layer followed by a non-linearity \"\"\"\n",
        "\n",
        "    def __init__(self, n_embd):\n",
        "        super().__init__()\n",
        "        self.net = nn.Sequential(\n",
        "            nn.Linear(n_embd, 4 * n_embd),\n",
        "            nn.ReLU(),\n",
        "            nn.Linear(4 * n_embd, n_embd),\n",
        "            nn.Dropout(dropout),\n",
        "        )\n",
        "\n",
        "    def forward(self, x):\n",
        "        return self.net(x)\n",
        "\n",
        "class Block(nn.Module):\n",
        "    \"\"\" Transformer block: communication followed by computation \"\"\"\n",
        "\n",
        "    def __init__(self, n_embd, n_head):\n",
        "        super().__init__()\n",
        "        head_size = n_embd // n_head\n",
        "        self.sa = MultiHeadAttention(n_head, head_size)\n",
        "        self.ffwd = FeedFoward(n_embd)\n",
        "        self.ln1 = nn.LayerNorm(n_embd)\n",
        "        self.ln2 = nn.LayerNorm(n_embd)\n",
        "\n",
        "    def forward(self, x):\n",
        "        x = x + self.sa(self.ln1(x))\n",
        "        x = x + self.ffwd(self.ln2(x))\n",
        "        return x\n",
        "\n",
        "class BigramLanguageModel(nn.Module):\n",
        "\n",
        "    def __init__(self):\n",
        "        super().__init__()\n",
        "        self.token_embedding_table = nn.Embedding(vocab_size, n_embd)\n",
        "        self.position_embedding_table = nn.Embedding(block_size, n_embd)\n",
        "        self.blocks = nn.Sequential(*[Block(n_embd, n_head=n_head) for _ in range(n_layer)])\n",
        "        self.ln_f = nn.LayerNorm(n_embd)\n",
        "        self.lm_head = nn.Linear(n_embd, vocab_size)\n",
        "\n",
        "    def forward(self, idx, targets=None):\n",
        "        B, T = idx.shape\n",
        "\n",
        "        tok_emb = self.token_embedding_table(idx)\n",
        "        pos_emb = self.position_embedding_table(torch.arange(T, device=device))\n",
        "        x = tok_emb + pos_emb\n",
        "        x = self.blocks(x)\n",
        "        x = self.ln_f(x)\n",
        "        logits = self.lm_head(x)\n",
        "\n",
        "        if targets is None:\n",
        "            loss = None\n",
        "        else:\n",
        "            B, T, C = logits.shape\n",
        "            logits = logits.view(B*T, C)\n",
        "            targets = targets.view(B*T)\n",
        "            loss = F.cross_entropy(logits, targets)\n",
        "\n",
        "        return logits, loss\n",
        "\n",
        "    def generate(self, idx, max_new_tokens):\n",
        "        for _ in range(max_new_tokens):\n",
        "            idx_cond = idx[:, -block_size:]\n",
        "            logits, loss = self(idx_cond)\n",
        "            logits = logits[:, -1, :] # becomes (B, C)\n",
        "            probs = F.softmax(logits, dim=-1) # (B, C)\n",
        "            idx_next = torch.multinomial(probs, num_samples=1) # (B, 1)\n",
        "            idx = torch.cat((idx, idx_next), dim=1) # (B, T+1)\n",
        "        return idx\n",
        "\n",
        "model = BigramLanguageModel()\n",
        "m = model.to(device)\n",
        "print(sum(p.numel() for p in m.parameters())/1e6, 'M parameters')\n",
        "\n",
        "optimizer = torch.optim.AdamW(model.parameters(), lr=learning_rate)\n",
        "import time\n",
        "start_time = time.time()\n",
        "for iter in range(max_iters):\n",
        "    if iter % eval_interval == 0 or iter == max_iters - 1:\n",
        "        end_time = time.time()  # end time\n",
        "        elapsed_time = end_time - start_time\n",
        "        start_time = end_time\n",
        "        print(f\"elapsed time: {elapsed_time}\")\n",
        "        losses = estimate_loss()\n",
        "        torch.save(m.state_dict(), f\"/content/drive/My Drive/bigram_model_turk_step {iter}.pth\")\n",
        "        print(f\"step {iter}: train loss {losses['train']:.4f}, val loss {losses['val']:.4f}\")\n",
        "\n",
        "    xb, yb = get_batch('train')\n",
        "\n",
        "    logits, loss = model(xb, yb)\n",
        "    optimizer.zero_grad(set_to_none=True)\n",
        "    loss.backward()\n",
        "    optimizer.step()\n",
        "\n",
        "context = torch.zeros((1, 1), dtype=torch.long, device=device)\n",
        "print(decode(m.generate(context, max_new_tokens=2000)[0].tolist()))"
      ],
      "metadata": {
        "colab": {
          "base_uri": "https://localhost:8080/"
        },
        "id": "hoelkOrFY8bN",
        "outputId": "9dcec0fa-8218-4384-9453-745d6ca78ae6"
      },
      "execution_count": null,
      "outputs": [
        {
          "output_type": "stream",
          "name": "stdout",
          "text": [
            "14.344781 M parameters\n",
            "elapsed time: 0.00019550323486328125\n",
            "step 0: train loss 4.5644, val loss 4.5590\n",
            "elapsed time: 754.0278787612915\n",
            "step 1000: train loss 1.9018, val loss 2.0831\n",
            "elapsed time: 758.3439583778381\n",
            "step 2000: train loss 1.4939, val loss 1.7238\n",
            "elapsed time: 758.2143104076385\n",
            "step 3000: train loss 1.3092, val loss 1.5938\n",
            "elapsed time: 758.1591382026672\n",
            "step 4000: train loss 1.1841, val loss 1.5325\n",
            "elapsed time: 758.1946711540222\n",
            "step 5000: train loss 1.0689, val loss 1.5200\n",
            "elapsed time: 757.8809194564819\n",
            "step 6000: train loss 0.9553, val loss 1.5409\n",
            "elapsed time: 758.010490655899\n",
            "step 7000: train loss 0.8383, val loss 1.5813\n"
          ]
        }
      ]
    },
    {
      "cell_type": "code",
      "source": [
        "# from google.colab import files\n",
        "# from google.colab import drive\n",
        "# drive.mount('/content/drive')"
      ],
      "metadata": {
        "id": "OzdcEFtUDg8f"
      },
      "execution_count": null,
      "outputs": []
    },
    {
      "cell_type": "code",
      "source": [
        "# model2 = BigramLanguageModel()\n",
        "\n",
        "\n",
        "# model2.load_state_dict(torch.load('/content/drive/My Drive/bigram_model_step 12000.pth', map_location=device))\n",
        "\n",
        "# # Move the model to the appropriate device\n",
        "# m2 = model2.to(device)"
      ],
      "metadata": {
        "id": "fjjvMifYZf7x"
      },
      "execution_count": null,
      "outputs": []
    },
    {
      "cell_type": "code",
      "source": [
        "context = torch.zeros((1, 1), dtype=torch.long, device=device)\n",
        "print(context)"
      ],
      "metadata": {
        "id": "ySkI_Q1uF6Zf"
      },
      "execution_count": null,
      "outputs": []
    },
    {
      "cell_type": "code",
      "source": [
        "# generate from the model\n",
        "print(decode(m.generate(context, max_new_tokens=1000)[0].tolist()))"
      ],
      "metadata": {
        "id": "eXNpAatoEGJl"
      },
      "execution_count": null,
      "outputs": []
    }
  ]
}